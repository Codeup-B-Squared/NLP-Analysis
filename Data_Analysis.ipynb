{
 "cells": [
  {
   "cell_type": "markdown",
   "metadata": {},
   "source": [
    "# Natural Language Processing Project<a class=\"anchor\" id=\"top\"></a>\n",
    "## Team Members\n",
    "[Bethany Thompson](https://github.com/ThompsonBethany01) & [Bibek Mainali](https://github.com/MainaliB)\n",
    "## Goals \n",
    "Predict a repository coding language by it's readme file.\n",
    "- Acquire data on GitHub's trending repositories\n",
    "- Clean data by normalizing any text\n",
    "- Explore trends in text within each coding language\n",
    "- Create a classification model to predict the coding language\n",
    "\n",
    "## Conclusions\n",
    "- Trends:\n",
    "- Model Metrics:\n",
    "\n",
    "## Reproduction Requirements\n",
    "### Files\n",
    "In your working directory, download:\n",
    "- Data_Analysis.ipynb\n",
    "- Acquire.py\n",
    "- Prepare.py  \n",
    "\n",
    "Tools:\n",
    "- Python Version\n",
    "- Pandas Version\n",
    "- Other Versions\n",
    "\n",
    "## Table of Contents\n",
    "1. [Acquisition](#first-bullet)\n",
    "2. [Preparation](#second-bullet)\n",
    "3. [Exploration](#third-bullet)\n",
    "4. [Modeling](#fourth-bullet)\n",
    "5. [Final Conclusions](#fifth-bullet)"
   ]
  },
  {
   "cell_type": "markdown",
   "metadata": {},
   "source": [
    "# Acquisition <a class=\"anchor\" id=\"first-bullet\"></a>\n",
    "For this project, we have to build the dataset. We decided on a list of GitHub repositories to scrape, and wrote the python code necessary to extract the text of the README file for each page, and the primary language of the repository.\n",
    "\n",
    "To can find the language of a repository:\n",
    "1. Visit Main Page of Repo\n",
    "1. Locate Bottom Right Side of Repo stating **Languages** \n",
    "2. html code ```<ul class=\"list-style-none\">```\n",
    "\n",
    "The only requirement is to include at least 100 repositories in our data set.\n",
    "\n",
    "## Repositories Chosen\n",
    "- GitHub's Trending English Repositories - At Least 25 from Top 4 Most Popular Coding Languages\n",
    "     - Python\n",
    "     - Java\n",
    "     - Swift\n",
    "     - Something Else\n"
   ]
  },
  {
   "cell_type": "code",
   "execution_count": 1,
   "metadata": {},
   "outputs": [],
   "source": [
    "# Acquire Imports\n",
    "import pandas as pd\n",
    "import numpy as np\n",
    "from requests import get\n",
    "from bs4 import BeautifulSoup\n",
    "import os\n",
    "\n",
    "# Acquire.py Module\n",
    "import Acquire"
   ]
  },
  {
   "cell_type": "markdown",
   "metadata": {},
   "source": [
    "## Acquire.get_top_repo Function\n",
    "- Scrapes repository names from the trending GitHub repo page, acquiring 25 from each coding language filter of Python, Java, Javescript, and Swift\n",
    "- creates url from repo name user/repo_name"
   ]
  },
  {
   "cell_type": "code",
   "execution_count": 2,
   "metadata": {},
   "outputs": [],
   "source": [
    "# urls = Acquire.get_top_repo(['python','java','javascript','swift'],'daily')"
   ]
  },
  {
   "cell_type": "code",
   "execution_count": 3,
   "metadata": {},
   "outputs": [
    {
     "data": {
      "text/html": [
       "<div>\n",
       "<style scoped>\n",
       "    .dataframe tbody tr th:only-of-type {\n",
       "        vertical-align: middle;\n",
       "    }\n",
       "\n",
       "    .dataframe tbody tr th {\n",
       "        vertical-align: top;\n",
       "    }\n",
       "\n",
       "    .dataframe thead th {\n",
       "        text-align: right;\n",
       "    }\n",
       "</style>\n",
       "<table border=\"1\" class=\"dataframe\">\n",
       "  <thead>\n",
       "    <tr style=\"text-align: right;\">\n",
       "      <th></th>\n",
       "      <th>language</th>\n",
       "      <th>link</th>\n",
       "    </tr>\n",
       "  </thead>\n",
       "  <tbody>\n",
       "    <tr>\n",
       "      <th>0</th>\n",
       "      <td>python</td>\n",
       "      <td>https://github.com/ytdl-org/youtube-dl</td>\n",
       "    </tr>\n",
       "    <tr>\n",
       "      <th>1</th>\n",
       "      <td>python</td>\n",
       "      <td>https://github.com/PyTorchLightning/pytorch-li...</td>\n",
       "    </tr>\n",
       "    <tr>\n",
       "      <th>2</th>\n",
       "      <td>python</td>\n",
       "      <td>https://github.com/microsoft/restler-fuzzer</td>\n",
       "    </tr>\n",
       "    <tr>\n",
       "      <th>3</th>\n",
       "      <td>python</td>\n",
       "      <td>https://github.com/bridgecrewio/checkov</td>\n",
       "    </tr>\n",
       "    <tr>\n",
       "      <th>4</th>\n",
       "      <td>python</td>\n",
       "      <td>https://github.com/jiupinjia/SkyAR</td>\n",
       "    </tr>\n",
       "  </tbody>\n",
       "</table>\n",
       "</div>"
      ],
      "text/plain": [
       "  language                                               link\n",
       "0   python             https://github.com/ytdl-org/youtube-dl\n",
       "1   python  https://github.com/PyTorchLightning/pytorch-li...\n",
       "2   python        https://github.com/microsoft/restler-fuzzer\n",
       "3   python            https://github.com/bridgecrewio/checkov\n",
       "4   python                 https://github.com/jiupinjia/SkyAR"
      ]
     },
     "execution_count": 3,
     "metadata": {},
     "output_type": "execute_result"
    }
   ],
   "source": [
    "urls.head()"
   ]
  },
  {
   "cell_type": "code",
   "execution_count": 4,
   "metadata": {},
   "outputs": [
    {
     "data": {
      "text/plain": [
       "Series([], Name: link, dtype: int64)"
      ]
     },
     "execution_count": 4,
     "metadata": {},
     "output_type": "execute_result"
    }
   ],
   "source": [
    "# no repeat urls present\n",
    "urls.link.value_counts()[urls.link.value_counts() > 1]"
   ]
  },
  {
   "cell_type": "code",
   "execution_count": 5,
   "metadata": {},
   "outputs": [
    {
     "data": {
      "text/plain": [
       "swift         25\n",
       "python        25\n",
       "java          25\n",
       "javascript    25\n",
       "Name: language, dtype: int64"
      ]
     },
     "execution_count": 5,
     "metadata": {},
     "output_type": "execute_result"
    }
   ],
   "source": [
    "# expected amount of coding languages\n",
    "urls.language.value_counts()"
   ]
  },
  {
   "cell_type": "markdown",
   "metadata": {},
   "source": [
    "## Acquire.get_content_df Function"
   ]
  },
  {
   "cell_type": "code",
   "execution_count": 6,
   "metadata": {},
   "outputs": [],
   "source": [
    "# code ran once for acquire and prep, final df saved to csv after prepare\n",
    "# df = Acquire.get_content_df(urls['link'])"
   ]
  },
  {
   "cell_type": "code",
   "execution_count": 7,
   "metadata": {},
   "outputs": [
    {
     "data": {
      "text/html": [
       "<div>\n",
       "<style scoped>\n",
       "    .dataframe tbody tr th:only-of-type {\n",
       "        vertical-align: middle;\n",
       "    }\n",
       "\n",
       "    .dataframe tbody tr th {\n",
       "        vertical-align: top;\n",
       "    }\n",
       "\n",
       "    .dataframe thead th {\n",
       "        text-align: right;\n",
       "    }\n",
       "</style>\n",
       "<table border=\"1\" class=\"dataframe\">\n",
       "  <thead>\n",
       "    <tr style=\"text-align: right;\">\n",
       "      <th></th>\n",
       "      <th>content</th>\n",
       "      <th>watchers</th>\n",
       "      <th>stars</th>\n",
       "      <th>forks</th>\n",
       "    </tr>\n",
       "  </thead>\n",
       "  <tbody>\n",
       "    <tr>\n",
       "      <th>0</th>\n",
       "      <td>\\nyoutube-dl - download videos from youtube.co...</td>\n",
       "      <td>2.1k</td>\n",
       "      <td>79.9k</td>\n",
       "      <td>1.6k</td>\n",
       "    </tr>\n",
       "    <tr>\n",
       "      <th>1</th>\n",
       "      <td>\\n\\nThe lightweight PyTorch wrapper for high-p...</td>\n",
       "      <td>215</td>\n",
       "      <td>10.3k</td>\n",
       "      <td>1.2k</td>\n",
       "    </tr>\n",
       "    <tr>\n",
       "      <th>2</th>\n",
       "      <td>RESTler\\nWhat is RESTler?\\nRESTler is the firs...</td>\n",
       "      <td>9</td>\n",
       "      <td>110</td>\n",
       "      <td>8</td>\n",
       "    </tr>\n",
       "    <tr>\n",
       "      <th>3</th>\n",
       "      <td>\\n\\n\\n\\n\\n\\n\\n\\n\\n\\n\\nCheckov is a static code...</td>\n",
       "      <td>41</td>\n",
       "      <td>1.6k</td>\n",
       "      <td>162</td>\n",
       "    </tr>\n",
       "    <tr>\n",
       "      <th>4</th>\n",
       "      <td>SkyAR\\nPreprint | Project Page | Google Colab\\...</td>\n",
       "      <td>42</td>\n",
       "      <td>1.2k</td>\n",
       "      <td>121</td>\n",
       "    </tr>\n",
       "    <tr>\n",
       "      <th>...</th>\n",
       "      <td>...</td>\n",
       "      <td>...</td>\n",
       "      <td>...</td>\n",
       "      <td>...</td>\n",
       "    </tr>\n",
       "    <tr>\n",
       "      <th>95</th>\n",
       "      <td>Firefox for iOS   \\nDownload on the App Store....</td>\n",
       "      <td>468</td>\n",
       "      <td>9.7k</td>\n",
       "      <td>2.3k</td>\n",
       "    </tr>\n",
       "    <tr>\n",
       "      <th>96</th>\n",
       "      <td>Articles related to this project\\n\\nClean Arch...</td>\n",
       "      <td>57</td>\n",
       "      <td>1.6k</td>\n",
       "      <td>171</td>\n",
       "    </tr>\n",
       "    <tr>\n",
       "      <th>97</th>\n",
       "      <td>\\n\\n\\n\\n\\n\\n\\n\\n\\n\\n\\n\\n\\n\\n\\nKingfisher is a ...</td>\n",
       "      <td>378</td>\n",
       "      <td>17.7k</td>\n",
       "      <td>1.9k</td>\n",
       "    </tr>\n",
       "    <tr>\n",
       "      <th>98</th>\n",
       "      <td>Swift Package Manager Project\\nThe Swift Packa...</td>\n",
       "      <td>391</td>\n",
       "      <td>8k</td>\n",
       "      <td>1k</td>\n",
       "    </tr>\n",
       "    <tr>\n",
       "      <th>99</th>\n",
       "      <td>Version 4.0.0, synced to MPAndroidChart #f6a39...</td>\n",
       "      <td>622</td>\n",
       "      <td>23.6k</td>\n",
       "      <td>4.7k</td>\n",
       "    </tr>\n",
       "  </tbody>\n",
       "</table>\n",
       "<p>100 rows × 4 columns</p>\n",
       "</div>"
      ],
      "text/plain": [
       "                                              content watchers  stars forks\n",
       "0   \\nyoutube-dl - download videos from youtube.co...     2.1k  79.9k  1.6k\n",
       "1   \\n\\nThe lightweight PyTorch wrapper for high-p...      215  10.3k  1.2k\n",
       "2   RESTler\\nWhat is RESTler?\\nRESTler is the firs...        9    110     8\n",
       "3   \\n\\n\\n\\n\\n\\n\\n\\n\\n\\n\\nCheckov is a static code...       41   1.6k   162\n",
       "4   SkyAR\\nPreprint | Project Page | Google Colab\\...       42   1.2k   121\n",
       "..                                                ...      ...    ...   ...\n",
       "95  Firefox for iOS   \\nDownload on the App Store....      468   9.7k  2.3k\n",
       "96  Articles related to this project\\n\\nClean Arch...       57   1.6k   171\n",
       "97  \\n\\n\\n\\n\\n\\n\\n\\n\\n\\n\\n\\n\\n\\n\\nKingfisher is a ...      378  17.7k  1.9k\n",
       "98  Swift Package Manager Project\\nThe Swift Packa...      391     8k    1k\n",
       "99  Version 4.0.0, synced to MPAndroidChart #f6a39...      622  23.6k  4.7k\n",
       "\n",
       "[100 rows x 4 columns]"
      ]
     },
     "execution_count": 7,
     "metadata": {},
     "output_type": "execute_result"
    }
   ],
   "source": [
    "df"
   ]
  },
  {
   "cell_type": "markdown",
   "metadata": {},
   "source": [
    "### Takeaways\n",
    "Our df includes:\n",
    "- content as Readme file text\n",
    "- watchers as number of users watching the repo\n",
    "- stars as number of users that have starred the repo\n",
    "- forks as number of users that have forked the repo\n",
    "\n",
    "Next steps:\n",
    "1. clean the text file\n",
    "2. convert counts from strings to integeres, i.e. 1.5k to 1500"
   ]
  },
  {
   "cell_type": "markdown",
   "metadata": {},
   "source": [
    "##### [Back to Top](#top)"
   ]
  },
  {
   "cell_type": "markdown",
   "metadata": {},
   "source": [
    "# Preparation <a class=\"anchor\" id=\"second-bullet\"></a>\n",
    "Within the Prepare.py function:\n",
    "- readme file text is normalized using Natural Language Processing\n",
    "- string numbers are converted to integers using pandas"
   ]
  },
  {
   "cell_type": "code",
   "execution_count": 8,
   "metadata": {},
   "outputs": [],
   "source": [
    "import Prepare"
   ]
  },
  {
   "cell_type": "code",
   "execution_count": 9,
   "metadata": {},
   "outputs": [],
   "source": [
    "# df = Prepare.prepare_df(df)"
   ]
  },
  {
   "cell_type": "code",
   "execution_count": 11,
   "metadata": {},
   "outputs": [],
   "source": [
    "# df = df.merge(urls, left_on=df.index, right_on=urls.index).drop('key_0', axis=1)"
   ]
  },
  {
   "cell_type": "code",
   "execution_count": 13,
   "metadata": {},
   "outputs": [],
   "source": [
    "# will work with this df from now up to testing the final model chosen\n",
    "# will generate new data later to evaluate the final model on test\n",
    "# df.to_csv('train_validate.csv')"
   ]
  },
  {
   "cell_type": "code",
   "execution_count": 12,
   "metadata": {},
   "outputs": [
    {
     "data": {
      "text/html": [
       "<div>\n",
       "<style scoped>\n",
       "    .dataframe tbody tr th:only-of-type {\n",
       "        vertical-align: middle;\n",
       "    }\n",
       "\n",
       "    .dataframe tbody tr th {\n",
       "        vertical-align: top;\n",
       "    }\n",
       "\n",
       "    .dataframe thead th {\n",
       "        text-align: right;\n",
       "    }\n",
       "</style>\n",
       "<table border=\"1\" class=\"dataframe\">\n",
       "  <thead>\n",
       "    <tr style=\"text-align: right;\">\n",
       "      <th></th>\n",
       "      <th>content</th>\n",
       "      <th>watchers</th>\n",
       "      <th>stars</th>\n",
       "      <th>forks</th>\n",
       "      <th>clean</th>\n",
       "      <th>tokenized</th>\n",
       "      <th>stemmed</th>\n",
       "      <th>lemmatized</th>\n",
       "      <th>filtered</th>\n",
       "      <th>word_list</th>\n",
       "      <th>char_length</th>\n",
       "      <th>word_length</th>\n",
       "      <th>language</th>\n",
       "      <th>link</th>\n",
       "    </tr>\n",
       "  </thead>\n",
       "  <tbody>\n",
       "    <tr>\n",
       "      <th>0</th>\n",
       "      <td>\\nyoutube-dl - download videos from youtube.co...</td>\n",
       "      <td>2100</td>\n",
       "      <td>79900</td>\n",
       "      <td>1600</td>\n",
       "      <td>youtube-dl - download videos from youtube.com ...</td>\n",
       "      <td>youtube-dl - download videos from youtube.com ...</td>\n",
       "      <td>youtube-dl - download video from youtube.com o...</td>\n",
       "      <td>youtube-dl - download video from youtube.com o...</td>\n",
       "      <td>youtube-dl - download video youtube.com video ...</td>\n",
       "      <td>[youtube-dl, -, download, video, from, youtube...</td>\n",
       "      <td>77742</td>\n",
       "      <td>13774</td>\n",
       "      <td>python</td>\n",
       "      <td>https://github.com/ytdl-org/youtube-dl</td>\n",
       "    </tr>\n",
       "    <tr>\n",
       "      <th>1</th>\n",
       "      <td>\\n\\nThe lightweight PyTorch wrapper for high-p...</td>\n",
       "      <td>215</td>\n",
       "      <td>10300</td>\n",
       "      <td>1200</td>\n",
       "      <td>the lightweight pytorch wrapper for high-perfo...</td>\n",
       "      <td>the lightweight pytorch wrapper for high-perfo...</td>\n",
       "      <td>the lightweight pytorch wrapper for high-perfo...</td>\n",
       "      <td>the lightweight pytorch wrapper for high-perfo...</td>\n",
       "      <td>lightweight pytorch wrapper high-performance a...</td>\n",
       "      <td>[the, lightweight, pytorch, wrapper, for, high...</td>\n",
       "      <td>7916</td>\n",
       "      <td>1241</td>\n",
       "      <td>python</td>\n",
       "      <td>https://github.com/PyTorchLightning/pytorch-li...</td>\n",
       "    </tr>\n",
       "    <tr>\n",
       "      <th>2</th>\n",
       "      <td>RESTler\\nWhat is RESTler?\\nRESTler is the firs...</td>\n",
       "      <td>9</td>\n",
       "      <td>110</td>\n",
       "      <td>8</td>\n",
       "      <td>restlerwhat is restler?restler is the first st...</td>\n",
       "      <td>restlerwhat is restler?restler is the first st...</td>\n",
       "      <td>restlerwhat is restler?restl is the first stat...</td>\n",
       "      <td>restlerwhat is restler?restler is the first st...</td>\n",
       "      <td>restlerwhat restler?restler first stateful res...</td>\n",
       "      <td>[restlerwhat, is, restler?restler, is, the, fi...</td>\n",
       "      <td>6802</td>\n",
       "      <td>1074</td>\n",
       "      <td>python</td>\n",
       "      <td>https://github.com/microsoft/restler-fuzzer</td>\n",
       "    </tr>\n",
       "    <tr>\n",
       "      <th>3</th>\n",
       "      <td>\\n\\n\\n\\n\\n\\n\\n\\n\\n\\n\\nCheckov is a static code...</td>\n",
       "      <td>41</td>\n",
       "      <td>1600</td>\n",
       "      <td>162</td>\n",
       "      <td>checkov is a static code analysis tool for inf...</td>\n",
       "      <td>checkov is a static code analysis tool for inf...</td>\n",
       "      <td>checkov is a static code analysi tool for infr...</td>\n",
       "      <td>checkov is a static code analysis tool for inf...</td>\n",
       "      <td>checkov static code analysis tool infrastructu...</td>\n",
       "      <td>[checkov, is, a, static, code, analysis, tool,...</td>\n",
       "      <td>5979</td>\n",
       "      <td>868</td>\n",
       "      <td>python</td>\n",
       "      <td>https://github.com/bridgecrewio/checkov</td>\n",
       "    </tr>\n",
       "    <tr>\n",
       "      <th>4</th>\n",
       "      <td>SkyAR\\nPreprint | Project Page | Google Colab\\...</td>\n",
       "      <td>42</td>\n",
       "      <td>1200</td>\n",
       "      <td>121</td>\n",
       "      <td>skyarpreprint | project page | google colaboff...</td>\n",
       "      <td>skyarpreprint &amp;#124; project page &amp;#124; googl...</td>\n",
       "      <td>skyarpreprint &amp;#124; project page &amp;#124; googl...</td>\n",
       "      <td>skyarpreprint &amp;#124; project page &amp;#124; googl...</td>\n",
       "      <td>skyarpreprint &amp;#124; project page &amp;#124; googl...</td>\n",
       "      <td>[skyarpreprint, &amp;#124;, project, page, &amp;#124;,...</td>\n",
       "      <td>4664</td>\n",
       "      <td>769</td>\n",
       "      <td>python</td>\n",
       "      <td>https://github.com/jiupinjia/SkyAR</td>\n",
       "    </tr>\n",
       "  </tbody>\n",
       "</table>\n",
       "</div>"
      ],
      "text/plain": [
       "                                             content  watchers  stars  forks  \\\n",
       "0  \\nyoutube-dl - download videos from youtube.co...      2100  79900   1600   \n",
       "1  \\n\\nThe lightweight PyTorch wrapper for high-p...       215  10300   1200   \n",
       "2  RESTler\\nWhat is RESTler?\\nRESTler is the firs...         9    110      8   \n",
       "3  \\n\\n\\n\\n\\n\\n\\n\\n\\n\\n\\nCheckov is a static code...        41   1600    162   \n",
       "4  SkyAR\\nPreprint | Project Page | Google Colab\\...        42   1200    121   \n",
       "\n",
       "                                               clean  \\\n",
       "0  youtube-dl - download videos from youtube.com ...   \n",
       "1  the lightweight pytorch wrapper for high-perfo...   \n",
       "2  restlerwhat is restler?restler is the first st...   \n",
       "3  checkov is a static code analysis tool for inf...   \n",
       "4  skyarpreprint | project page | google colaboff...   \n",
       "\n",
       "                                           tokenized  \\\n",
       "0  youtube-dl - download videos from youtube.com ...   \n",
       "1  the lightweight pytorch wrapper for high-perfo...   \n",
       "2  restlerwhat is restler?restler is the first st...   \n",
       "3  checkov is a static code analysis tool for inf...   \n",
       "4  skyarpreprint &#124; project page &#124; googl...   \n",
       "\n",
       "                                             stemmed  \\\n",
       "0  youtube-dl - download video from youtube.com o...   \n",
       "1  the lightweight pytorch wrapper for high-perfo...   \n",
       "2  restlerwhat is restler?restl is the first stat...   \n",
       "3  checkov is a static code analysi tool for infr...   \n",
       "4  skyarpreprint &#124; project page &#124; googl...   \n",
       "\n",
       "                                          lemmatized  \\\n",
       "0  youtube-dl - download video from youtube.com o...   \n",
       "1  the lightweight pytorch wrapper for high-perfo...   \n",
       "2  restlerwhat is restler?restler is the first st...   \n",
       "3  checkov is a static code analysis tool for inf...   \n",
       "4  skyarpreprint &#124; project page &#124; googl...   \n",
       "\n",
       "                                            filtered  \\\n",
       "0  youtube-dl - download video youtube.com video ...   \n",
       "1  lightweight pytorch wrapper high-performance a...   \n",
       "2  restlerwhat restler?restler first stateful res...   \n",
       "3  checkov static code analysis tool infrastructu...   \n",
       "4  skyarpreprint &#124; project page &#124; googl...   \n",
       "\n",
       "                                           word_list  char_length  \\\n",
       "0  [youtube-dl, -, download, video, from, youtube...        77742   \n",
       "1  [the, lightweight, pytorch, wrapper, for, high...         7916   \n",
       "2  [restlerwhat, is, restler?restler, is, the, fi...         6802   \n",
       "3  [checkov, is, a, static, code, analysis, tool,...         5979   \n",
       "4  [skyarpreprint, &#124;, project, page, &#124;,...         4664   \n",
       "\n",
       "   word_length language                                               link  \n",
       "0        13774   python             https://github.com/ytdl-org/youtube-dl  \n",
       "1         1241   python  https://github.com/PyTorchLightning/pytorch-li...  \n",
       "2         1074   python        https://github.com/microsoft/restler-fuzzer  \n",
       "3          868   python            https://github.com/bridgecrewio/checkov  \n",
       "4          769   python                 https://github.com/jiupinjia/SkyAR  "
      ]
     },
     "execution_count": 12,
     "metadata": {},
     "output_type": "execute_result"
    }
   ],
   "source": [
    "df.head()"
   ]
  },
  {
   "cell_type": "markdown",
   "metadata": {},
   "source": [
    "### Takeaways\n",
    "Conclusions:  \n",
    "Next Steps:"
   ]
  },
  {
   "cell_type": "markdown",
   "metadata": {},
   "source": [
    "##### [Back to Top](#top)"
   ]
  },
  {
   "cell_type": "markdown",
   "metadata": {},
   "source": [
    "# Exploration <a class=\"anchor\" id=\"third-bullet\"></a>\n",
    "### Before splitting the df, we can do univariate exploration:\n",
    "   - distributions of single variables\n",
    "   - determine if outliers are present - are they okay in the context or need to be removed?  \n",
    "\n",
    "\n",
    "### Split the data into train and validate for bivariate analysis\n",
    "   - What are the most common words in READMEs?\n",
    "   - What does the distribution of IDFs look like for the most common words?\n",
    "   - Does the length of the README vary by programming language?\n",
    "   - Do different programming languages use a different number of unique words?\n",
    "   - What words are present only within the specific coding languages?"
   ]
  },
  {
   "cell_type": "code",
   "execution_count": 14,
   "metadata": {},
   "outputs": [],
   "source": [
    "import matplotlib.pyplot as plt\n",
    "import seaborn as sns"
   ]
  },
  {
   "cell_type": "markdown",
   "metadata": {},
   "source": [
    "## Univariate Analysis Before Splitting the DF"
   ]
  },
  {
   "cell_type": "code",
   "execution_count": 15,
   "metadata": {},
   "outputs": [
    {
     "data": {
      "text/html": [
       "<div>\n",
       "<style scoped>\n",
       "    .dataframe tbody tr th:only-of-type {\n",
       "        vertical-align: middle;\n",
       "    }\n",
       "\n",
       "    .dataframe tbody tr th {\n",
       "        vertical-align: top;\n",
       "    }\n",
       "\n",
       "    .dataframe thead th {\n",
       "        text-align: right;\n",
       "    }\n",
       "</style>\n",
       "<table border=\"1\" class=\"dataframe\">\n",
       "  <thead>\n",
       "    <tr style=\"text-align: right;\">\n",
       "      <th></th>\n",
       "      <th>watchers</th>\n",
       "      <th>stars</th>\n",
       "      <th>forks</th>\n",
       "      <th>char_length</th>\n",
       "      <th>word_length</th>\n",
       "    </tr>\n",
       "  </thead>\n",
       "  <tbody>\n",
       "    <tr>\n",
       "      <th>count</th>\n",
       "      <td>100.000000</td>\n",
       "      <td>100.000000</td>\n",
       "      <td>100.000000</td>\n",
       "      <td>100.000000</td>\n",
       "      <td>100.000000</td>\n",
       "    </tr>\n",
       "    <tr>\n",
       "      <th>mean</th>\n",
       "      <td>485.580000</td>\n",
       "      <td>11943.230000</td>\n",
       "      <td>2350.470000</td>\n",
       "      <td>8766.870000</td>\n",
       "      <td>1407.610000</td>\n",
       "    </tr>\n",
       "    <tr>\n",
       "      <th>std</th>\n",
       "      <td>838.197346</td>\n",
       "      <td>15891.478693</td>\n",
       "      <td>4317.330279</td>\n",
       "      <td>21479.613807</td>\n",
       "      <td>3694.420089</td>\n",
       "    </tr>\n",
       "    <tr>\n",
       "      <th>min</th>\n",
       "      <td>9.000000</td>\n",
       "      <td>22.000000</td>\n",
       "      <td>8.000000</td>\n",
       "      <td>64.000000</td>\n",
       "      <td>8.000000</td>\n",
       "    </tr>\n",
       "    <tr>\n",
       "      <th>25%</th>\n",
       "      <td>69.000000</td>\n",
       "      <td>1400.000000</td>\n",
       "      <td>208.500000</td>\n",
       "      <td>2071.250000</td>\n",
       "      <td>313.750000</td>\n",
       "    </tr>\n",
       "    <tr>\n",
       "      <th>50%</th>\n",
       "      <td>247.500000</td>\n",
       "      <td>6150.000000</td>\n",
       "      <td>894.000000</td>\n",
       "      <td>4282.000000</td>\n",
       "      <td>611.500000</td>\n",
       "    </tr>\n",
       "    <tr>\n",
       "      <th>75%</th>\n",
       "      <td>551.750000</td>\n",
       "      <td>17375.000000</td>\n",
       "      <td>1900.000000</td>\n",
       "      <td>7285.500000</td>\n",
       "      <td>1087.750000</td>\n",
       "    </tr>\n",
       "    <tr>\n",
       "      <th>max</th>\n",
       "      <td>6800.000000</td>\n",
       "      <td>86100.000000</td>\n",
       "      <td>31600.000000</td>\n",
       "      <td>197478.000000</td>\n",
       "      <td>33953.000000</td>\n",
       "    </tr>\n",
       "  </tbody>\n",
       "</table>\n",
       "</div>"
      ],
      "text/plain": [
       "          watchers         stars         forks    char_length   word_length\n",
       "count   100.000000    100.000000    100.000000     100.000000    100.000000\n",
       "mean    485.580000  11943.230000   2350.470000    8766.870000   1407.610000\n",
       "std     838.197346  15891.478693   4317.330279   21479.613807   3694.420089\n",
       "min       9.000000     22.000000      8.000000      64.000000      8.000000\n",
       "25%      69.000000   1400.000000    208.500000    2071.250000    313.750000\n",
       "50%     247.500000   6150.000000    894.000000    4282.000000    611.500000\n",
       "75%     551.750000  17375.000000   1900.000000    7285.500000   1087.750000\n",
       "max    6800.000000  86100.000000  31600.000000  197478.000000  33953.000000"
      ]
     },
     "execution_count": 15,
     "metadata": {},
     "output_type": "execute_result"
    }
   ],
   "source": [
    "df.describe()"
   ]
  },
  {
   "cell_type": "code",
   "execution_count": 24,
   "metadata": {},
   "outputs": [
    {
     "data": {
      "image/png": "[encoded data removed]",
      "text/plain": [
       "<Figure size 936x648 with 5 Axes>"
      ]
     },
     "metadata": {
      "needs_background": "light"
     },
     "output_type": "display_data"
    }
   ],
   "source": [
    "x = 1\n",
    "plt.figure(figsize=(13,9))\n",
    "for col in df.describe():\n",
    "    \n",
    "    plt.subplot(3,2,x)\n",
    "    plt.title(f'Distribution of {col}')\n",
    "    plt.xlabel(col)\n",
    "    plt.ylabel('Count of Repos')\n",
    "    plt.hist(df[col])\n",
    "    x = x + 1\n",
    "    \n",
    "plt.tight_layout()"
   ]
  },
  {
   "cell_type": "markdown",
   "metadata": {},
   "source": [
    "## Splitting the DF Into Train and Validate for Bivariate Analysis and Modeling\n",
    "- Prepare Function Splits DF Into 68% Train, 32% Validate\n",
    "    - 17 observations from each lanuage for Train\n",
    "    - 8 observations from each language for Validate"
   ]
  },
  {
   "cell_type": "code",
   "execution_count": 21,
   "metadata": {},
   "outputs": [
    {
     "name": "stdout",
     "output_type": "stream",
     "text": [
      "\n",
      "train percent:  68.0 , validate percent:  32.0\n"
     ]
    }
   ],
   "source": [
    "train, validate = Prepare.train_validate(df)"
   ]
  },
  {
   "cell_type": "code",
   "execution_count": 22,
   "metadata": {},
   "outputs": [
    {
     "data": {
      "text/plain": [
       "java          18\n",
       "javascript    18\n",
       "python        16\n",
       "swift         16\n",
       "Name: language, dtype: int64"
      ]
     },
     "execution_count": 22,
     "metadata": {},
     "output_type": "execute_result"
    }
   ],
   "source": [
    "train.language.value_counts()"
   ]
  },
  {
   "cell_type": "markdown",
   "metadata": {},
   "source": [
    "## Exploring Train DF Only"
   ]
  },
  {
   "cell_type": "code",
   "execution_count": null,
   "metadata": {},
   "outputs": [],
   "source": []
  },
  {
   "cell_type": "markdown",
   "metadata": {},
   "source": [
    "### Takeaways\n",
    "Conclusions:  \n",
    "Next Steps:"
   ]
  },
  {
   "cell_type": "markdown",
   "metadata": {},
   "source": [
    "##### [Back to Top](#top)"
   ]
  },
  {
   "cell_type": "markdown",
   "metadata": {},
   "source": [
    "# Modeling <a class=\"anchor\" id=\"fourth-bullet\"></a>"
   ]
  },
  {
   "cell_type": "code",
   "execution_count": null,
   "metadata": {},
   "outputs": [],
   "source": []
  },
  {
   "cell_type": "code",
   "execution_count": null,
   "metadata": {},
   "outputs": [],
   "source": []
  },
  {
   "cell_type": "code",
   "execution_count": null,
   "metadata": {},
   "outputs": [],
   "source": []
  },
  {
   "cell_type": "markdown",
   "metadata": {},
   "source": [
    "### Takeaways\n",
    "Conclusions:  \n",
    "Next Steps:"
   ]
  },
  {
   "cell_type": "markdown",
   "metadata": {},
   "source": [
    "##### [Back to Top](#top)"
   ]
  },
  {
   "cell_type": "markdown",
   "metadata": {},
   "source": [
    "# Final Conclusions <a class=\"anchor\" id=\"fifth-bullet\"></a>"
   ]
  },
  {
   "cell_type": "markdown",
   "metadata": {},
   "source": [
    "##### [Back to Top](#top)"
   ]
  }
 ],
 "metadata": {
  "kernelspec": {
   "display_name": "Python 3",
   "language": "python",
   "name": "python3"
  },
  "language_info": {
   "codemirror_mode": {
    "name": "ipython",
    "version": 3
   },
   "file_extension": ".py",
   "mimetype": "text/x-python",
   "name": "python",
   "nbconvert_exporter": "python",
   "pygments_lexer": "ipython3",
   "version": "3.7.6"
  }
 },
 "nbformat": 4,
 "nbformat_minor": 4
}
