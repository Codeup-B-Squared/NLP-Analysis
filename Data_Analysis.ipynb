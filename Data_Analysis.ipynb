{
 "cells": [
  {
   "cell_type": "markdown",
   "metadata": {},
   "source": [
    "# Natural Language Processing Project<a class=\"anchor\" id=\"top\"></a>\n",
    "## Team Members\n",
    "[Bethany Thompson](https://github.com/ThompsonBethany01) & [Bibek Mainali](https://github.com/MainaliB)\n",
    "## Goals \n",
    "Predict a repository coding language by it's readme file.\n",
    "- Acquire data on GitHub's trending repositories\n",
    "- Clean data by normalizing any text\n",
    "- Explore trends in text within each coding language\n",
    "- Create a classification model to predict the coding language\n",
    "\n",
    "## Conclusions\n",
    "- Trends:\n",
    "- Model Metrics:\n",
    "\n",
    "## Reproduction Requirements\n",
    "### Files\n",
    "In your working directory, download:\n",
    "- Data_Analysis.ipynb\n",
    "- Acquire.py\n",
    "- Prepare.py  \n",
    "\n",
    "Tools:\n",
    "- Python Version\n",
    "- Pandas Version\n",
    "- Other Versions\n",
    "\n",
    "## Table of Contents\n",
    "1. [Acquisition](#first-bullet)\n",
    "2. [Preparation](#second-bullet)\n",
    "3. [Exploration](#third-bullet)\n",
    "4. [Modeling](#fourth-bullet)\n",
    "5. [Final Conclusions](#fifth-bullet)"
   ]
  },
  {
   "cell_type": "markdown",
   "metadata": {},
   "source": [
    "# Acquisition <a class=\"anchor\" id=\"first-bullet\"></a>\n",
    "For this project, we have to build the dataset. We decided on a list of GitHub repositories to scrape, and wrote the python code necessary to extract the text of the README file for each page, and the primary language of the repository.\n",
    "\n",
    "To can find the language of a repository:\n",
    "1. Visit Main Page of Repo\n",
    "1. Locate Bottom Right Side of Repo stating **Languages** \n",
    "2. html code ```<ul class=\"list-style-none\">```\n",
    "\n",
    "The only requirement is to include at least 100 repositories in our data set.\n",
    "\n",
    "## Repositories Chosen\n",
    "- GitHub's Trending English Repositories - At Least 25 from Top 4 Most Popular Coding Languages\n",
    "     - Python\n",
    "     - Java\n",
    "     - Swift\n",
    "     - Something Else\n"
   ]
  },
  {
   "cell_type": "code",
   "execution_count": 1,
   "metadata": {},
   "outputs": [],
   "source": [
    "# Acquire Imports\n",
    "import pandas as pd\n",
    "import numpy as np\n",
    "from requests import get\n",
    "from bs4 import BeautifulSoup\n",
    "import os\n",
    "\n",
    "# Acquire.py Module\n",
    "import Acquire"
   ]
  },
  {
   "cell_type": "markdown",
   "metadata": {},
   "source": [
    "## Acquire.get_top_repo Function\n",
    "- Scrapes repository names from the trending GitHub repo page, acquiring 25 from each coding language filter of Python, Java, Javescript, and Swift\n",
    "- creates url from repo name user/repo_name"
   ]
  },
  {
   "cell_type": "code",
   "execution_count": 2,
   "metadata": {},
   "outputs": [],
   "source": [
    "urls = Acquire.get_top_repo(['python','java','javascript','swift'],'daily')"
   ]
  },
  {
   "cell_type": "code",
   "execution_count": 4,
   "metadata": {},
   "outputs": [
    {
     "data": {
      "text/html": [
       "<div>\n",
       "<style scoped>\n",
       "    .dataframe tbody tr th:only-of-type {\n",
       "        vertical-align: middle;\n",
       "    }\n",
       "\n",
       "    .dataframe tbody tr th {\n",
       "        vertical-align: top;\n",
       "    }\n",
       "\n",
       "    .dataframe thead th {\n",
       "        text-align: right;\n",
       "    }\n",
       "</style>\n",
       "<table border=\"1\" class=\"dataframe\">\n",
       "  <thead>\n",
       "    <tr style=\"text-align: right;\">\n",
       "      <th></th>\n",
       "      <th>language</th>\n",
       "      <th>link</th>\n",
       "    </tr>\n",
       "  </thead>\n",
       "  <tbody>\n",
       "    <tr>\n",
       "      <th>0</th>\n",
       "      <td>python</td>\n",
       "      <td>https://github.com/ytdl-org/youtube-dl</td>\n",
       "    </tr>\n",
       "    <tr>\n",
       "      <th>1</th>\n",
       "      <td>python</td>\n",
       "      <td>https://github.com/PyTorchLightning/pytorch-li...</td>\n",
       "    </tr>\n",
       "    <tr>\n",
       "      <th>2</th>\n",
       "      <td>python</td>\n",
       "      <td>https://github.com/microsoft/restler-fuzzer</td>\n",
       "    </tr>\n",
       "    <tr>\n",
       "      <th>3</th>\n",
       "      <td>python</td>\n",
       "      <td>https://github.com/bridgecrewio/checkov</td>\n",
       "    </tr>\n",
       "    <tr>\n",
       "      <th>4</th>\n",
       "      <td>python</td>\n",
       "      <td>https://github.com/jiupinjia/SkyAR</td>\n",
       "    </tr>\n",
       "  </tbody>\n",
       "</table>\n",
       "</div>"
      ],
      "text/plain": [
       "  language                                               link\n",
       "0   python             https://github.com/ytdl-org/youtube-dl\n",
       "1   python  https://github.com/PyTorchLightning/pytorch-li...\n",
       "2   python        https://github.com/microsoft/restler-fuzzer\n",
       "3   python            https://github.com/bridgecrewio/checkov\n",
       "4   python                 https://github.com/jiupinjia/SkyAR"
      ]
     },
     "execution_count": 4,
     "metadata": {},
     "output_type": "execute_result"
    }
   ],
   "source": [
    "urls.head()"
   ]
  },
  {
   "cell_type": "code",
   "execution_count": 20,
   "metadata": {},
   "outputs": [
    {
     "data": {
      "text/plain": [
       "Series([], Name: link, dtype: int64)"
      ]
     },
     "execution_count": 20,
     "metadata": {},
     "output_type": "execute_result"
    }
   ],
   "source": [
    "# no repeat urls present\n",
    "urls.link.value_counts()[urls.link.value_counts() > 1]"
   ]
  },
  {
   "cell_type": "code",
   "execution_count": 23,
   "metadata": {},
   "outputs": [
    {
     "data": {
      "text/plain": [
       "python        25\n",
       "java          25\n",
       "swift         25\n",
       "javascript    25\n",
       "Name: language, dtype: int64"
      ]
     },
     "execution_count": 23,
     "metadata": {},
     "output_type": "execute_result"
    }
   ],
   "source": [
    "# expected amount of coding languages\n",
    "urls.language.value_counts()"
   ]
  },
  {
   "cell_type": "markdown",
   "metadata": {},
   "source": [
    "## Acquire.get_content_df Function"
   ]
  },
  {
   "cell_type": "code",
   "execution_count": 5,
   "metadata": {},
   "outputs": [],
   "source": [
    "df = Acquire.get_content_df(urls['link'])"
   ]
  },
  {
   "cell_type": "code",
   "execution_count": 38,
   "metadata": {},
   "outputs": [],
   "source": [
    "df.columns = ['content','watchers','stars','forks']"
   ]
  },
  {
   "cell_type": "code",
   "execution_count": 39,
   "metadata": {},
   "outputs": [
    {
     "data": {
      "text/html": [
       "<div>\n",
       "<style scoped>\n",
       "    .dataframe tbody tr th:only-of-type {\n",
       "        vertical-align: middle;\n",
       "    }\n",
       "\n",
       "    .dataframe tbody tr th {\n",
       "        vertical-align: top;\n",
       "    }\n",
       "\n",
       "    .dataframe thead th {\n",
       "        text-align: right;\n",
       "    }\n",
       "</style>\n",
       "<table border=\"1\" class=\"dataframe\">\n",
       "  <thead>\n",
       "    <tr style=\"text-align: right;\">\n",
       "      <th></th>\n",
       "      <th>content</th>\n",
       "      <th>watchers</th>\n",
       "      <th>stars</th>\n",
       "      <th>forks</th>\n",
       "    </tr>\n",
       "  </thead>\n",
       "  <tbody>\n",
       "    <tr>\n",
       "      <th>0</th>\n",
       "      <td>\\nyoutube-dl - download videos from youtube.co...</td>\n",
       "      <td>2.1k</td>\n",
       "      <td>79.8k</td>\n",
       "      <td>1.5k</td>\n",
       "    </tr>\n",
       "    <tr>\n",
       "      <th>1</th>\n",
       "      <td>\\n\\nThe lightweight PyTorch wrapper for high-p...</td>\n",
       "      <td>215</td>\n",
       "      <td>10.3k</td>\n",
       "      <td>1.2k</td>\n",
       "    </tr>\n",
       "    <tr>\n",
       "      <th>2</th>\n",
       "      <td>RESTler\\nWhat is RESTler?\\nRESTler is the firs...</td>\n",
       "      <td>9</td>\n",
       "      <td>104</td>\n",
       "      <td>7</td>\n",
       "    </tr>\n",
       "    <tr>\n",
       "      <th>3</th>\n",
       "      <td>\\n\\n\\n\\n\\n\\n\\n\\n\\n\\n\\nCheckov is a static code...</td>\n",
       "      <td>41</td>\n",
       "      <td>1.6k</td>\n",
       "      <td>160</td>\n",
       "    </tr>\n",
       "    <tr>\n",
       "      <th>4</th>\n",
       "      <td>SkyAR\\nPreprint | Project Page | Google Colab\\...</td>\n",
       "      <td>41</td>\n",
       "      <td>1.2k</td>\n",
       "      <td>121</td>\n",
       "    </tr>\n",
       "    <tr>\n",
       "      <th>...</th>\n",
       "      <td>...</td>\n",
       "      <td>...</td>\n",
       "      <td>...</td>\n",
       "      <td>...</td>\n",
       "    </tr>\n",
       "    <tr>\n",
       "      <th>95</th>\n",
       "      <td>Firefox for iOS   \\nDownload on the App Store....</td>\n",
       "      <td>468</td>\n",
       "      <td>9.7k</td>\n",
       "      <td>2.3k</td>\n",
       "    </tr>\n",
       "    <tr>\n",
       "      <th>96</th>\n",
       "      <td>Articles related to this project\\n\\nClean Arch...</td>\n",
       "      <td>57</td>\n",
       "      <td>1.6k</td>\n",
       "      <td>171</td>\n",
       "    </tr>\n",
       "    <tr>\n",
       "      <th>97</th>\n",
       "      <td>\\n\\n\\n\\n\\n\\n\\n\\n\\n\\n\\n\\n\\n\\n\\nKingfisher is a ...</td>\n",
       "      <td>378</td>\n",
       "      <td>17.7k</td>\n",
       "      <td>1.9k</td>\n",
       "    </tr>\n",
       "    <tr>\n",
       "      <th>98</th>\n",
       "      <td>Swift Package Manager Project\\nThe Swift Packa...</td>\n",
       "      <td>391</td>\n",
       "      <td>8k</td>\n",
       "      <td>1k</td>\n",
       "    </tr>\n",
       "    <tr>\n",
       "      <th>99</th>\n",
       "      <td>Version 4.0.0, synced to MPAndroidChart #f6a39...</td>\n",
       "      <td>622</td>\n",
       "      <td>23.6k</td>\n",
       "      <td>4.7k</td>\n",
       "    </tr>\n",
       "  </tbody>\n",
       "</table>\n",
       "<p>100 rows × 4 columns</p>\n",
       "</div>"
      ],
      "text/plain": [
       "                                              content watchers  stars forks\n",
       "0   \\nyoutube-dl - download videos from youtube.co...     2.1k  79.8k  1.5k\n",
       "1   \\n\\nThe lightweight PyTorch wrapper for high-p...      215  10.3k  1.2k\n",
       "2   RESTler\\nWhat is RESTler?\\nRESTler is the firs...        9    104     7\n",
       "3   \\n\\n\\n\\n\\n\\n\\n\\n\\n\\n\\nCheckov is a static code...       41   1.6k   160\n",
       "4   SkyAR\\nPreprint | Project Page | Google Colab\\...       41   1.2k   121\n",
       "..                                                ...      ...    ...   ...\n",
       "95  Firefox for iOS   \\nDownload on the App Store....      468   9.7k  2.3k\n",
       "96  Articles related to this project\\n\\nClean Arch...       57   1.6k   171\n",
       "97  \\n\\n\\n\\n\\n\\n\\n\\n\\n\\n\\n\\n\\n\\n\\nKingfisher is a ...      378  17.7k  1.9k\n",
       "98  Swift Package Manager Project\\nThe Swift Packa...      391     8k    1k\n",
       "99  Version 4.0.0, synced to MPAndroidChart #f6a39...      622  23.6k  4.7k\n",
       "\n",
       "[100 rows x 4 columns]"
      ]
     },
     "execution_count": 39,
     "metadata": {},
     "output_type": "execute_result"
    }
   ],
   "source": [
    "df"
   ]
  },
  {
   "cell_type": "code",
   "execution_count": 9,
   "metadata": {},
   "outputs": [],
   "source": [
    "# will work with this df from now up to testing the final model chosen\n",
    "# will generate new data later to evaluate the final model on test\n",
    "# df.to_csv('train_validate.csv')"
   ]
  },
  {
   "cell_type": "markdown",
   "metadata": {},
   "source": [
    "### Takeaways\n",
    "Our df includes:\n",
    "- content as Readme file text\n",
    "- watchers as number of users watching the repo\n",
    "- stars as number of users that have starred the repo\n",
    "- forks as number of users that have forked the repo\n",
    "\n",
    "Next steps:\n",
    "1. clean the text file\n",
    "2. convert counts from strings to integeres, i.e. 1.5k to 1500"
   ]
  },
  {
   "cell_type": "markdown",
   "metadata": {},
   "source": [
    "##### [Back to Top](#top)"
   ]
  },
  {
   "cell_type": "markdown",
   "metadata": {},
   "source": [
    "# Preparation <a class=\"anchor\" id=\"second-bullet\"></a>\n",
    "Within the Prepare.py function:\n",
    "- readme file text is normalized using Natural Language Processing\n",
    "- string numbers are converted to integers using pandas"
   ]
  },
  {
   "cell_type": "code",
   "execution_count": 42,
   "metadata": {},
   "outputs": [],
   "source": [
    "import Prepare.py"
   ]
  },
  {
   "cell_type": "code",
   "execution_count": null,
   "metadata": {},
   "outputs": [],
   "source": [
    "df = Prepare.prep_df(df)"
   ]
  },
  {
   "cell_type": "code",
   "execution_count": null,
   "metadata": {},
   "outputs": [],
   "source": [
    "df.head()"
   ]
  },
  {
   "cell_type": "markdown",
   "metadata": {},
   "source": [
    "### Takeaways\n",
    "Conclusions:  \n",
    "Next Steps:"
   ]
  },
  {
   "cell_type": "markdown",
   "metadata": {},
   "source": [
    "##### [Back to Top](#top)"
   ]
  },
  {
   "cell_type": "markdown",
   "metadata": {},
   "source": [
    "# Exploration <a class=\"anchor\" id=\"third-bullet\"></a>"
   ]
  },
  {
   "cell_type": "code",
   "execution_count": null,
   "metadata": {},
   "outputs": [],
   "source": []
  },
  {
   "cell_type": "code",
   "execution_count": null,
   "metadata": {},
   "outputs": [],
   "source": []
  },
  {
   "cell_type": "code",
   "execution_count": null,
   "metadata": {},
   "outputs": [],
   "source": []
  },
  {
   "cell_type": "markdown",
   "metadata": {},
   "source": [
    "### Takeaways\n",
    "Conclusions:  \n",
    "Next Steps:"
   ]
  },
  {
   "cell_type": "markdown",
   "metadata": {},
   "source": [
    "##### [Back to Top](#top)"
   ]
  },
  {
   "cell_type": "markdown",
   "metadata": {},
   "source": [
    "# Modeling <a class=\"anchor\" id=\"fourth-bullet\"></a>"
   ]
  },
  {
   "cell_type": "code",
   "execution_count": null,
   "metadata": {},
   "outputs": [],
   "source": []
  },
  {
   "cell_type": "code",
   "execution_count": null,
   "metadata": {},
   "outputs": [],
   "source": []
  },
  {
   "cell_type": "code",
   "execution_count": null,
   "metadata": {},
   "outputs": [],
   "source": []
  },
  {
   "cell_type": "markdown",
   "metadata": {},
   "source": [
    "### Takeaways\n",
    "Conclusions:  \n",
    "Next Steps:"
   ]
  },
  {
   "cell_type": "markdown",
   "metadata": {},
   "source": [
    "##### [Back to Top](#top)"
   ]
  },
  {
   "cell_type": "markdown",
   "metadata": {},
   "source": [
    "# Final Conclusions <a class=\"anchor\" id=\"fifth-bullet\"></a>"
   ]
  },
  {
   "cell_type": "markdown",
   "metadata": {},
   "source": [
    "##### [Back to Top](#top)"
   ]
  }
 ],
 "metadata": {
  "kernelspec": {
   "display_name": "Python 3",
   "language": "python",
   "name": "python3"
  },
  "language_info": {
   "codemirror_mode": {
    "name": "ipython",
    "version": 3
   },
   "file_extension": ".py",
   "mimetype": "text/x-python",
   "name": "python",
   "nbconvert_exporter": "python",
   "pygments_lexer": "ipython3",
   "version": "3.7.6"
  }
 },
 "nbformat": 4,
 "nbformat_minor": 4
}
